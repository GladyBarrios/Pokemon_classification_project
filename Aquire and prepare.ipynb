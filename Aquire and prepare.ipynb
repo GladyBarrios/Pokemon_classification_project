{
 "cells": [
  {
   "cell_type": "markdown",
   "id": "b4444782",
   "metadata": {},
   "source": [
    "# Aquire and Prepare "
   ]
  },
  {
   "cell_type": "code",
   "execution_count": 1,
   "id": "4278b5a5",
   "metadata": {},
   "outputs": [],
   "source": [
    "import pandas as pd\n",
    "import numpy as np\n",
    "import matplotlib.pyplot as plt\n",
    "import seaborn as sns\n",
    "%matplotlib inline"
   ]
  },
  {
   "cell_type": "markdown",
   "id": "69fe57e4",
   "metadata": {},
   "source": [
    "## aquire\n",
    "\n",
    "This is a dataset from Kaggle here is the link https://www.kaggle.com/datasets/mariotormo/complete-pokemon-dataset-updated-090420"
   ]
  },
  {
   "cell_type": "code",
   "execution_count": 2,
   "id": "b934c454",
   "metadata": {},
   "outputs": [],
   "source": [
    "poke_df = pd.read_csv('pokedex_(Update_04.21).csv', index_col='Unnamed: 0')"
   ]
  },
  {
   "cell_type": "code",
   "execution_count": 3,
   "id": "aa2c5eb3",
   "metadata": {
    "scrolled": true
   },
   "outputs": [
    {
     "data": {
      "text/html": [
       "<div>\n",
       "<style scoped>\n",
       "    .dataframe tbody tr th:only-of-type {\n",
       "        vertical-align: middle;\n",
       "    }\n",
       "\n",
       "    .dataframe tbody tr th {\n",
       "        vertical-align: top;\n",
       "    }\n",
       "\n",
       "    .dataframe thead th {\n",
       "        text-align: right;\n",
       "    }\n",
       "</style>\n",
       "<table border=\"1\" class=\"dataframe\">\n",
       "  <thead>\n",
       "    <tr style=\"text-align: right;\">\n",
       "      <th></th>\n",
       "      <th>pokedex_number</th>\n",
       "      <th>name</th>\n",
       "      <th>german_name</th>\n",
       "      <th>japanese_name</th>\n",
       "      <th>generation</th>\n",
       "      <th>status</th>\n",
       "      <th>species</th>\n",
       "      <th>type_number</th>\n",
       "      <th>type_1</th>\n",
       "      <th>type_2</th>\n",
       "      <th>...</th>\n",
       "      <th>against_ground</th>\n",
       "      <th>against_flying</th>\n",
       "      <th>against_psychic</th>\n",
       "      <th>against_bug</th>\n",
       "      <th>against_rock</th>\n",
       "      <th>against_ghost</th>\n",
       "      <th>against_dragon</th>\n",
       "      <th>against_dark</th>\n",
       "      <th>against_steel</th>\n",
       "      <th>against_fairy</th>\n",
       "    </tr>\n",
       "  </thead>\n",
       "  <tbody>\n",
       "    <tr>\n",
       "      <th>0</th>\n",
       "      <td>1</td>\n",
       "      <td>Bulbasaur</td>\n",
       "      <td>Bisasam</td>\n",
       "      <td>フシギダネ (Fushigidane)</td>\n",
       "      <td>1</td>\n",
       "      <td>Normal</td>\n",
       "      <td>Seed Pokémon</td>\n",
       "      <td>2</td>\n",
       "      <td>Grass</td>\n",
       "      <td>Poison</td>\n",
       "      <td>...</td>\n",
       "      <td>1.0</td>\n",
       "      <td>2.0</td>\n",
       "      <td>2.0</td>\n",
       "      <td>1.0</td>\n",
       "      <td>1.0</td>\n",
       "      <td>1.0</td>\n",
       "      <td>1.0</td>\n",
       "      <td>1.0</td>\n",
       "      <td>1.0</td>\n",
       "      <td>0.5</td>\n",
       "    </tr>\n",
       "    <tr>\n",
       "      <th>1</th>\n",
       "      <td>2</td>\n",
       "      <td>Ivysaur</td>\n",
       "      <td>Bisaknosp</td>\n",
       "      <td>フシギソウ (Fushigisou)</td>\n",
       "      <td>1</td>\n",
       "      <td>Normal</td>\n",
       "      <td>Seed Pokémon</td>\n",
       "      <td>2</td>\n",
       "      <td>Grass</td>\n",
       "      <td>Poison</td>\n",
       "      <td>...</td>\n",
       "      <td>1.0</td>\n",
       "      <td>2.0</td>\n",
       "      <td>2.0</td>\n",
       "      <td>1.0</td>\n",
       "      <td>1.0</td>\n",
       "      <td>1.0</td>\n",
       "      <td>1.0</td>\n",
       "      <td>1.0</td>\n",
       "      <td>1.0</td>\n",
       "      <td>0.5</td>\n",
       "    </tr>\n",
       "    <tr>\n",
       "      <th>2</th>\n",
       "      <td>3</td>\n",
       "      <td>Venusaur</td>\n",
       "      <td>Bisaflor</td>\n",
       "      <td>フシギバナ (Fushigibana)</td>\n",
       "      <td>1</td>\n",
       "      <td>Normal</td>\n",
       "      <td>Seed Pokémon</td>\n",
       "      <td>2</td>\n",
       "      <td>Grass</td>\n",
       "      <td>Poison</td>\n",
       "      <td>...</td>\n",
       "      <td>1.0</td>\n",
       "      <td>2.0</td>\n",
       "      <td>2.0</td>\n",
       "      <td>1.0</td>\n",
       "      <td>1.0</td>\n",
       "      <td>1.0</td>\n",
       "      <td>1.0</td>\n",
       "      <td>1.0</td>\n",
       "      <td>1.0</td>\n",
       "      <td>0.5</td>\n",
       "    </tr>\n",
       "    <tr>\n",
       "      <th>3</th>\n",
       "      <td>3</td>\n",
       "      <td>Mega Venusaur</td>\n",
       "      <td>Bisaflor</td>\n",
       "      <td>フシギバナ (Fushigibana)</td>\n",
       "      <td>1</td>\n",
       "      <td>Normal</td>\n",
       "      <td>Seed Pokémon</td>\n",
       "      <td>2</td>\n",
       "      <td>Grass</td>\n",
       "      <td>Poison</td>\n",
       "      <td>...</td>\n",
       "      <td>1.0</td>\n",
       "      <td>2.0</td>\n",
       "      <td>2.0</td>\n",
       "      <td>1.0</td>\n",
       "      <td>1.0</td>\n",
       "      <td>1.0</td>\n",
       "      <td>1.0</td>\n",
       "      <td>1.0</td>\n",
       "      <td>1.0</td>\n",
       "      <td>0.5</td>\n",
       "    </tr>\n",
       "    <tr>\n",
       "      <th>4</th>\n",
       "      <td>4</td>\n",
       "      <td>Charmander</td>\n",
       "      <td>Glumanda</td>\n",
       "      <td>ヒトカゲ (Hitokage)</td>\n",
       "      <td>1</td>\n",
       "      <td>Normal</td>\n",
       "      <td>Lizard Pokémon</td>\n",
       "      <td>1</td>\n",
       "      <td>Fire</td>\n",
       "      <td>NaN</td>\n",
       "      <td>...</td>\n",
       "      <td>2.0</td>\n",
       "      <td>1.0</td>\n",
       "      <td>1.0</td>\n",
       "      <td>0.5</td>\n",
       "      <td>2.0</td>\n",
       "      <td>1.0</td>\n",
       "      <td>1.0</td>\n",
       "      <td>1.0</td>\n",
       "      <td>0.5</td>\n",
       "      <td>0.5</td>\n",
       "    </tr>\n",
       "  </tbody>\n",
       "</table>\n",
       "<p>5 rows × 50 columns</p>\n",
       "</div>"
      ],
      "text/plain": [
       "   pokedex_number           name german_name        japanese_name  generation  \\\n",
       "0               1      Bulbasaur     Bisasam  フシギダネ (Fushigidane)           1   \n",
       "1               2        Ivysaur   Bisaknosp   フシギソウ (Fushigisou)           1   \n",
       "2               3       Venusaur    Bisaflor  フシギバナ (Fushigibana)           1   \n",
       "3               3  Mega Venusaur    Bisaflor  フシギバナ (Fushigibana)           1   \n",
       "4               4     Charmander    Glumanda      ヒトカゲ (Hitokage)           1   \n",
       "\n",
       "   status         species  type_number type_1  type_2  ...  against_ground  \\\n",
       "0  Normal    Seed Pokémon            2  Grass  Poison  ...             1.0   \n",
       "1  Normal    Seed Pokémon            2  Grass  Poison  ...             1.0   \n",
       "2  Normal    Seed Pokémon            2  Grass  Poison  ...             1.0   \n",
       "3  Normal    Seed Pokémon            2  Grass  Poison  ...             1.0   \n",
       "4  Normal  Lizard Pokémon            1   Fire     NaN  ...             2.0   \n",
       "\n",
       "   against_flying  against_psychic against_bug against_rock against_ghost  \\\n",
       "0             2.0              2.0         1.0          1.0           1.0   \n",
       "1             2.0              2.0         1.0          1.0           1.0   \n",
       "2             2.0              2.0         1.0          1.0           1.0   \n",
       "3             2.0              2.0         1.0          1.0           1.0   \n",
       "4             1.0              1.0         0.5          2.0           1.0   \n",
       "\n",
       "   against_dragon  against_dark  against_steel  against_fairy  \n",
       "0             1.0           1.0            1.0            0.5  \n",
       "1             1.0           1.0            1.0            0.5  \n",
       "2             1.0           1.0            1.0            0.5  \n",
       "3             1.0           1.0            1.0            0.5  \n",
       "4             1.0           1.0            0.5            0.5  \n",
       "\n",
       "[5 rows x 50 columns]"
      ]
     },
     "execution_count": 3,
     "metadata": {},
     "output_type": "execute_result"
    }
   ],
   "source": [
    "poke_df.head()"
   ]
  },
  {
   "cell_type": "code",
   "execution_count": 4,
   "id": "1a6f685d",
   "metadata": {},
   "outputs": [],
   "source": [
    "# would i even need german name and jap name ??"
   ]
  },
  {
   "cell_type": "markdown",
   "id": "2ecaf86e",
   "metadata": {},
   "source": [
    "- the whole point of this project will be to use ML Models to determine what status new pokemon would fall into "
   ]
  },
  {
   "cell_type": "markdown",
   "id": "015f79ec",
   "metadata": {},
   "source": [
    "# Preparing the DATA"
   ]
  },
  {
   "cell_type": "code",
   "execution_count": 5,
   "id": "20e09dfc",
   "metadata": {
    "scrolled": true
   },
   "outputs": [
    {
     "name": "stdout",
     "output_type": "stream",
     "text": [
      "<class 'pandas.core.frame.DataFrame'>\n",
      "Int64Index: 1045 entries, 0 to 1044\n",
      "Data columns (total 50 columns):\n",
      " #   Column            Non-Null Count  Dtype  \n",
      "---  ------            --------------  -----  \n",
      " 0   pokedex_number    1045 non-null   int64  \n",
      " 1   name              1045 non-null   object \n",
      " 2   german_name       1045 non-null   object \n",
      " 3   japanese_name     1045 non-null   object \n",
      " 4   generation        1045 non-null   int64  \n",
      " 5   status            1045 non-null   object \n",
      " 6   species           1045 non-null   object \n",
      " 7   type_number       1045 non-null   int64  \n",
      " 8   type_1            1045 non-null   object \n",
      " 9   type_2            553 non-null    object \n",
      " 10  height_m          1045 non-null   float64\n",
      " 11  weight_kg         1044 non-null   float64\n",
      " 12  abilities_number  1045 non-null   int64  \n",
      " 13  ability_1         1042 non-null   object \n",
      " 14  ability_2         516 non-null    object \n",
      " 15  ability_hidden    813 non-null    object \n",
      " 16  total_points      1045 non-null   int64  \n",
      " 17  hp                1045 non-null   int64  \n",
      " 18  attack            1045 non-null   int64  \n",
      " 19  defense           1045 non-null   int64  \n",
      " 20  sp_attack         1045 non-null   int64  \n",
      " 21  sp_defense        1045 non-null   int64  \n",
      " 22  speed             1045 non-null   int64  \n",
      " 23  catch_rate        1027 non-null   float64\n",
      " 24  base_friendship   930 non-null    float64\n",
      " 25  base_experience   925 non-null    float64\n",
      " 26  growth_rate       1044 non-null   object \n",
      " 27  egg_type_number   1045 non-null   int64  \n",
      " 28  egg_type_1        1042 non-null   object \n",
      " 29  egg_type_2        285 non-null    object \n",
      " 30  percentage_male   872 non-null    float64\n",
      " 31  egg_cycles        1044 non-null   float64\n",
      " 32  against_normal    1045 non-null   float64\n",
      " 33  against_fire      1045 non-null   float64\n",
      " 34  against_water     1045 non-null   float64\n",
      " 35  against_electric  1045 non-null   float64\n",
      " 36  against_grass     1045 non-null   float64\n",
      " 37  against_ice       1045 non-null   float64\n",
      " 38  against_fight     1045 non-null   float64\n",
      " 39  against_poison    1045 non-null   float64\n",
      " 40  against_ground    1045 non-null   float64\n",
      " 41  against_flying    1045 non-null   float64\n",
      " 42  against_psychic   1045 non-null   float64\n",
      " 43  against_bug       1045 non-null   float64\n",
      " 44  against_rock      1045 non-null   float64\n",
      " 45  against_ghost     1045 non-null   float64\n",
      " 46  against_dragon    1045 non-null   float64\n",
      " 47  against_dark      1045 non-null   float64\n",
      " 48  against_steel     1045 non-null   float64\n",
      " 49  against_fairy     1045 non-null   float64\n",
      "dtypes: float64(25), int64(12), object(13)\n",
      "memory usage: 416.4+ KB\n"
     ]
    }
   ],
   "source": [
    "poke_df.info()"
   ]
  },
  {
   "cell_type": "code",
   "execution_count": 6,
   "id": "bd73fc42",
   "metadata": {},
   "outputs": [
    {
     "data": {
      "text/plain": [
       "Mouse Pokémon          12\n",
       "Dragon Pokémon          9\n",
       "Fox Pokémon             9\n",
       "Pumpkin Pokémon         8\n",
       "Flame Pokémon           7\n",
       "                       ..\n",
       "Verdant Pokémon         1\n",
       "Ogre Darner Pokémon     1\n",
       "Jubilee Pokémon         1\n",
       "Blast Pokémon           1\n",
       "Hippo Pokémon           1\n",
       "Name: species, Length: 652, dtype: int64"
      ]
     },
     "execution_count": 6,
     "metadata": {},
     "output_type": "execute_result"
    }
   ],
   "source": [
    "poke_df.species.value_counts()"
   ]
  },
  {
   "cell_type": "code",
   "execution_count": 7,
   "id": "18c297d4",
   "metadata": {
    "scrolled": true
   },
   "outputs": [
    {
     "data": {
      "text/plain": [
       "Normal           918\n",
       "Sub Legendary     55\n",
       "Legendary         42\n",
       "Mythical          30\n",
       "Name: status, dtype: int64"
      ]
     },
     "execution_count": 7,
     "metadata": {},
     "output_type": "execute_result"
    }
   ],
   "source": [
    "poke_df.status.value_counts()"
   ]
  },
  {
   "cell_type": "code",
   "execution_count": 8,
   "id": "4dc33e19",
   "metadata": {},
   "outputs": [
    {
     "data": {
      "text/plain": [
       "1    192\n",
       "5    171\n",
       "3    165\n",
       "4    121\n",
       "2    107\n",
       "8    105\n",
       "7     99\n",
       "6     85\n",
       "Name: generation, dtype: int64"
      ]
     },
     "execution_count": 8,
     "metadata": {},
     "output_type": "execute_result"
    }
   ],
   "source": [
    "poke_df.generation.value_counts()"
   ]
  },
  {
   "cell_type": "code",
   "execution_count": 9,
   "id": "4466852a",
   "metadata": {},
   "outputs": [],
   "source": [
    "#Looks like there is alot of nulls in many collumns looking at what I keep and what I remove "
   ]
  },
  {
   "cell_type": "code",
   "execution_count": 10,
   "id": "3ad387f6",
   "metadata": {
    "scrolled": false
   },
   "outputs": [
    {
     "data": {
      "text/plain": [
       "pokedex_number        0\n",
       "name                  0\n",
       "german_name           0\n",
       "japanese_name         0\n",
       "generation            0\n",
       "status                0\n",
       "species               0\n",
       "type_number           0\n",
       "type_1                0\n",
       "type_2              492\n",
       "height_m              0\n",
       "weight_kg             1\n",
       "abilities_number      0\n",
       "ability_1             3\n",
       "ability_2           529\n",
       "ability_hidden      232\n",
       "total_points          0\n",
       "hp                    0\n",
       "attack                0\n",
       "defense               0\n",
       "sp_attack             0\n",
       "sp_defense            0\n",
       "speed                 0\n",
       "catch_rate           18\n",
       "base_friendship     115\n",
       "base_experience     120\n",
       "growth_rate           1\n",
       "egg_type_number       0\n",
       "egg_type_1            3\n",
       "egg_type_2          760\n",
       "percentage_male     173\n",
       "egg_cycles            1\n",
       "against_normal        0\n",
       "against_fire          0\n",
       "against_water         0\n",
       "against_electric      0\n",
       "against_grass         0\n",
       "against_ice           0\n",
       "against_fight         0\n",
       "against_poison        0\n",
       "against_ground        0\n",
       "against_flying        0\n",
       "against_psychic       0\n",
       "against_bug           0\n",
       "against_rock          0\n",
       "against_ghost         0\n",
       "against_dragon        0\n",
       "against_dark          0\n",
       "against_steel         0\n",
       "against_fairy         0\n",
       "dtype: int64"
      ]
     },
     "execution_count": 10,
     "metadata": {},
     "output_type": "execute_result"
    }
   ],
   "source": [
    "poke_df.isnull().sum()"
   ]
  },
  {
   "cell_type": "code",
   "execution_count": null,
   "id": "86df00ec",
   "metadata": {},
   "outputs": [],
   "source": [
    "#im just going to drop all the nulls "
   ]
  },
  {
   "cell_type": "code",
   "execution_count": 12,
   "id": "3e3bfd02",
   "metadata": {},
   "outputs": [],
   "source": [
    "poke_df = poke_df.drop(columns = ['type_2', 'egg_type_2'])"
   ]
  },
  {
   "cell_type": "code",
   "execution_count": 13,
   "id": "650a6815",
   "metadata": {},
   "outputs": [
    {
     "name": "stdout",
     "output_type": "stream",
     "text": [
      "<class 'pandas.core.frame.DataFrame'>\n",
      "Int64Index: 1045 entries, 0 to 1044\n",
      "Data columns (total 48 columns):\n",
      " #   Column            Non-Null Count  Dtype  \n",
      "---  ------            --------------  -----  \n",
      " 0   pokedex_number    1045 non-null   int64  \n",
      " 1   name              1045 non-null   object \n",
      " 2   german_name       1045 non-null   object \n",
      " 3   japanese_name     1045 non-null   object \n",
      " 4   generation        1045 non-null   int64  \n",
      " 5   status            1045 non-null   object \n",
      " 6   species           1045 non-null   object \n",
      " 7   type_number       1045 non-null   int64  \n",
      " 8   type_1            1045 non-null   object \n",
      " 9   height_m          1045 non-null   float64\n",
      " 10  weight_kg         1044 non-null   float64\n",
      " 11  abilities_number  1045 non-null   int64  \n",
      " 12  ability_1         1042 non-null   object \n",
      " 13  ability_2         516 non-null    object \n",
      " 14  ability_hidden    813 non-null    object \n",
      " 15  total_points      1045 non-null   int64  \n",
      " 16  hp                1045 non-null   int64  \n",
      " 17  attack            1045 non-null   int64  \n",
      " 18  defense           1045 non-null   int64  \n",
      " 19  sp_attack         1045 non-null   int64  \n",
      " 20  sp_defense        1045 non-null   int64  \n",
      " 21  speed             1045 non-null   int64  \n",
      " 22  catch_rate        1027 non-null   float64\n",
      " 23  base_friendship   930 non-null    float64\n",
      " 24  base_experience   925 non-null    float64\n",
      " 25  growth_rate       1044 non-null   object \n",
      " 26  egg_type_number   1045 non-null   int64  \n",
      " 27  egg_type_1        1042 non-null   object \n",
      " 28  percentage_male   872 non-null    float64\n",
      " 29  egg_cycles        1044 non-null   float64\n",
      " 30  against_normal    1045 non-null   float64\n",
      " 31  against_fire      1045 non-null   float64\n",
      " 32  against_water     1045 non-null   float64\n",
      " 33  against_electric  1045 non-null   float64\n",
      " 34  against_grass     1045 non-null   float64\n",
      " 35  against_ice       1045 non-null   float64\n",
      " 36  against_fight     1045 non-null   float64\n",
      " 37  against_poison    1045 non-null   float64\n",
      " 38  against_ground    1045 non-null   float64\n",
      " 39  against_flying    1045 non-null   float64\n",
      " 40  against_psychic   1045 non-null   float64\n",
      " 41  against_bug       1045 non-null   float64\n",
      " 42  against_rock      1045 non-null   float64\n",
      " 43  against_ghost     1045 non-null   float64\n",
      " 44  against_dragon    1045 non-null   float64\n",
      " 45  against_dark      1045 non-null   float64\n",
      " 46  against_steel     1045 non-null   float64\n",
      " 47  against_fairy     1045 non-null   float64\n",
      "dtypes: float64(25), int64(12), object(11)\n",
      "memory usage: 400.0+ KB\n"
     ]
    }
   ],
   "source": [
    "poke_df.info()"
   ]
  },
  {
   "cell_type": "code",
   "execution_count": null,
   "id": "acddefe5",
   "metadata": {},
   "outputs": [],
   "source": []
  },
  {
   "cell_type": "code",
   "execution_count": null,
   "id": "ff5e8bce",
   "metadata": {},
   "outputs": [],
   "source": []
  },
  {
   "cell_type": "code",
   "execution_count": null,
   "id": "cbf7b1da",
   "metadata": {},
   "outputs": [],
   "source": []
  },
  {
   "cell_type": "code",
   "execution_count": null,
   "id": "6be16d06",
   "metadata": {},
   "outputs": [],
   "source": []
  },
  {
   "cell_type": "code",
   "execution_count": null,
   "id": "6cf221d0",
   "metadata": {},
   "outputs": [],
   "source": []
  },
  {
   "cell_type": "code",
   "execution_count": null,
   "id": "fbc045af",
   "metadata": {},
   "outputs": [],
   "source": []
  },
  {
   "cell_type": "code",
   "execution_count": null,
   "id": "45ab049e",
   "metadata": {},
   "outputs": [],
   "source": []
  }
 ],
 "metadata": {
  "kernelspec": {
   "display_name": "Python 3 (ipykernel)",
   "language": "python",
   "name": "python3"
  },
  "language_info": {
   "codemirror_mode": {
    "name": "ipython",
    "version": 3
   },
   "file_extension": ".py",
   "mimetype": "text/x-python",
   "name": "python",
   "nbconvert_exporter": "python",
   "pygments_lexer": "ipython3",
   "version": "3.9.12"
  }
 },
 "nbformat": 4,
 "nbformat_minor": 5
}
